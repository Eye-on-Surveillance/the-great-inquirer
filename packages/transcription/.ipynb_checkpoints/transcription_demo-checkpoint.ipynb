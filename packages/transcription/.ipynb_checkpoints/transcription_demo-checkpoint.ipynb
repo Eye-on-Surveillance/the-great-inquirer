{
 "cells": [
  {
   "cell_type": "code",
   "execution_count": 2,
   "metadata": {
    "tags": []
   },
   "outputs": [],
   "source": [
    "from yttranscriptions import *\n",
    "from transcribe import *\n"
   ]
  },
  {
   "cell_type": "code",
   "execution_count": 16,
   "metadata": {
    "tags": []
   },
   "outputs": [
    {
     "name": "stdout",
     "output_type": "stream",
     "text": [
      "CPU times: user 634 ms, sys: 422 ms, total: 1.06 s\n",
      "Wall time: 1.84 s\n"
     ]
    }
   ],
   "source": [
    "%%time\n",
    "video_path = \"/Users/haydenoutlaw/Downloads/City Council Meeting 1_18_2024(1).mp4\"\n",
    "\n",
    "transcriber = TranscriptionGenerator(\"tiny\", \"cpu\", 30, 12)\n",
    "\n"
   ]
  },
  {
   "cell_type": "code",
   "execution_count": 17,
   "metadata": {
    "tags": []
   },
   "outputs": [],
   "source": [
    "def convert_video_to_audio(input_path, output_path, audio_format=\"mp3\"):\n",
    "# Load video clip\n",
    "    video_clip = VideoFileClip(input_path)\n",
    "\n",
    "    # Extract audio from the video\n",
    "    audio_clip = video_clip.audio\n",
    "\n",
    "    # Save audio to the specified output path and format\n",
    "    audio_clip.write_audiofile(output_path, codec = 'mp3')\n",
    "\n",
    "    # Close the video and audio clips\n",
    "    video_clip.close()\n",
    "    audio_clip.close()"
   ]
  },
  {
   "cell_type": "code",
   "execution_count": 18,
   "metadata": {
    "tags": []
   },
   "outputs": [
    {
     "name": "stderr",
     "output_type": "stream",
     "text": [
      "chunk:   0%|                    | 37/30987 [02:14<31:16:10,  3.64s/it, now=None]"
     ]
    },
    {
     "name": "stdout",
     "output_type": "stream",
     "text": [
      "MoviePy - Writing audio in /Users/haydenoutlaw/Downloads/City Council Meeting 1_18_2024(1).mp3\n"
     ]
    },
    {
     "name": "stderr",
     "output_type": "stream",
     "text": [
      "\n",
      "chunk:   0%|                                | 0/30987 [00:00<?, ?it/s, now=None]\u001b[A\n",
      "chunk:   1%|▏                   | 272/30987 [00:00<00:11, 2696.86it/s, now=None]\u001b[A\n",
      "chunk:   2%|▍                   | 628/30987 [00:00<00:09, 3178.06it/s, now=None]\u001b[A\n",
      "chunk:   3%|▋                   | 988/30987 [00:00<00:08, 3360.56it/s, now=None]\u001b[A\n",
      "chunk:   4%|▊                  | 1344/30987 [00:00<00:08, 3438.61it/s, now=None]\u001b[A\n",
      "chunk:   6%|█                  | 1708/30987 [00:00<00:08, 3500.23it/s, now=None]\u001b[A\n",
      "chunk:   7%|█▎                 | 2070/30987 [00:00<00:08, 3526.66it/s, now=None]\u001b[A\n",
      "chunk:   8%|█▍                 | 2434/30987 [00:00<00:08, 3555.74it/s, now=None]\u001b[A\n",
      "chunk:   9%|█▋                 | 2790/30987 [00:00<00:07, 3547.79it/s, now=None]\u001b[A\n",
      "chunk:  10%|█▉                 | 3145/30987 [00:00<00:07, 3526.49it/s, now=None]\u001b[A\n",
      "chunk:  11%|██▏                | 3504/30987 [00:01<00:07, 3531.02it/s, now=None]\u001b[A\n",
      "chunk:  12%|██▎                | 3862/30987 [00:01<00:07, 3537.46it/s, now=None]\u001b[A\n",
      "chunk:  14%|██▌                | 4218/30987 [00:01<00:07, 3532.25it/s, now=None]\u001b[A\n",
      "chunk:  15%|██▊                | 4572/30987 [00:01<00:07, 3533.34it/s, now=None]\u001b[A\n",
      "chunk:  16%|███                | 4930/30987 [00:01<00:07, 3531.08it/s, now=None]\u001b[A\n",
      "chunk:  17%|███▏               | 5294/30987 [00:01<00:07, 3552.26it/s, now=None]\u001b[A\n",
      "chunk:  18%|███▍               | 5656/30987 [00:01<00:07, 3556.01it/s, now=None]\u001b[A\n",
      "chunk:  19%|███▋               | 6016/30987 [00:01<00:07, 3561.05it/s, now=None]\u001b[A\n",
      "chunk:  21%|███▉               | 6373/30987 [00:01<00:06, 3562.02it/s, now=None]\u001b[A\n",
      "chunk:  22%|████▏              | 6730/30987 [00:01<00:06, 3535.64it/s, now=None]\u001b[A\n",
      "chunk:  23%|████▎              | 7086/30987 [00:02<00:06, 3534.04it/s, now=None]\u001b[A\n",
      "chunk:  24%|████▌              | 7444/30987 [00:02<00:06, 3533.63it/s, now=None]\u001b[A\n",
      "chunk:  25%|████▊              | 7800/30987 [00:02<00:06, 3528.51it/s, now=None]\u001b[A\n",
      "chunk:  26%|█████              | 8158/30987 [00:02<00:06, 3534.30it/s, now=None]\u001b[A\n",
      "chunk:  27%|█████▏             | 8514/30987 [00:02<00:06, 3538.71it/s, now=None]\u001b[A\n",
      "chunk:  29%|█████▍             | 8868/30987 [00:02<00:06, 3527.06it/s, now=None]\u001b[A\n",
      "chunk:  30%|█████▋             | 9221/30987 [00:02<00:06, 3516.48it/s, now=None]\u001b[A\n",
      "chunk:  31%|█████▊             | 9577/30987 [00:02<00:06, 3528.25it/s, now=None]\u001b[A\n",
      "chunk:  32%|██████             | 9930/30987 [00:02<00:05, 3516.94it/s, now=None]\u001b[A\n",
      "chunk:  33%|█████▉            | 10289/30987 [00:02<00:05, 3537.98it/s, now=None]\u001b[A\n",
      "chunk:  34%|██████▏           | 10648/30987 [00:03<00:05, 3553.48it/s, now=None]\u001b[A\n",
      "chunk:  36%|██████▍           | 11006/30987 [00:03<00:05, 3542.44it/s, now=None]\u001b[A\n",
      "chunk:  37%|██████▌           | 11361/30987 [00:03<00:05, 3544.17it/s, now=None]\u001b[A\n",
      "chunk:  38%|██████▊           | 11716/30987 [00:03<00:05, 3534.63it/s, now=None]\u001b[A\n",
      "chunk:  39%|███████           | 12070/30987 [00:03<00:05, 3531.91it/s, now=None]\u001b[A\n",
      "chunk:  40%|███████▏          | 12424/30987 [00:03<00:05, 3533.76it/s, now=None]\u001b[A\n",
      "chunk:  41%|███████▍          | 12784/30987 [00:03<00:05, 3548.85it/s, now=None]\u001b[A\n",
      "chunk:  42%|███████▋          | 13139/30987 [00:03<00:05, 3529.80it/s, now=None]\u001b[A\n",
      "chunk:  44%|███████▊          | 13493/30987 [00:03<00:04, 3518.93it/s, now=None]\u001b[A\n",
      "chunk:  45%|████████          | 13846/30987 [00:03<00:04, 3521.17it/s, now=None]\u001b[A\n",
      "chunk:  46%|████████▎         | 14205/30987 [00:04<00:04, 3541.03it/s, now=None]\u001b[A\n",
      "chunk:  47%|████████▍         | 14560/30987 [00:04<00:04, 3543.54it/s, now=None]\u001b[A\n",
      "chunk:  48%|████████▋         | 14922/30987 [00:04<00:04, 3559.97it/s, now=None]\u001b[A\n",
      "chunk:  49%|████████▉         | 15284/30987 [00:04<00:04, 3576.00it/s, now=None]\u001b[A\n",
      "chunk:  50%|█████████         | 15642/30987 [00:04<00:04, 3560.46it/s, now=None]\u001b[A\n",
      "chunk:  52%|█████████▎        | 16004/30987 [00:04<00:04, 3561.14it/s, now=None]\u001b[A\n",
      "chunk:  53%|█████████▌        | 16361/30987 [00:04<00:04, 3562.94it/s, now=None]\u001b[A\n",
      "chunk:  54%|█████████▋        | 16718/30987 [00:04<00:04, 3535.90it/s, now=None]\u001b[A\n",
      "chunk:  55%|█████████▉        | 17072/30987 [00:04<00:03, 3523.15it/s, now=None]\u001b[A\n",
      "chunk:  56%|██████████        | 17425/30987 [00:04<00:03, 3512.23it/s, now=None]\u001b[A\n",
      "chunk:  57%|██████████▎       | 17789/30987 [00:05<00:03, 3549.42it/s, now=None]\u001b[A\n",
      "chunk:  59%|██████████▌       | 18154/30987 [00:05<00:03, 3575.48it/s, now=None]\u001b[A\n",
      "chunk:  60%|██████████▊       | 18512/30987 [00:05<00:03, 3565.61it/s, now=None]\u001b[A\n",
      "chunk:  61%|██████████▉       | 18869/30987 [00:05<00:03, 3561.71it/s, now=None]\u001b[A\n",
      "chunk:  62%|███████████▏      | 19226/30987 [00:05<00:03, 3541.41it/s, now=None]\u001b[A\n",
      "chunk:  63%|███████████▎      | 19581/30987 [00:05<00:03, 3543.79it/s, now=None]\u001b[A\n",
      "chunk:  64%|███████████▌      | 19936/30987 [00:05<00:03, 3529.59it/s, now=None]\u001b[A\n",
      "chunk:  65%|███████████▊      | 20289/30987 [00:05<00:03, 3501.16it/s, now=None]\u001b[A\n",
      "chunk:  67%|███████████▉      | 20640/30987 [00:05<00:02, 3499.80it/s, now=None]\u001b[A\n",
      "chunk:  68%|████████████▏     | 20991/30987 [00:05<00:02, 3495.59it/s, now=None]\u001b[A\n",
      "chunk:  69%|████████████▍     | 21346/30987 [00:06<00:02, 3500.83it/s, now=None]\u001b[A\n",
      "chunk:  70%|████████████▌     | 21708/30987 [00:06<00:02, 3523.73it/s, now=None]\u001b[A\n",
      "chunk:  71%|████████████▊     | 22063/30987 [00:06<00:02, 3530.13it/s, now=None]\u001b[A\n",
      "chunk:  72%|█████████████     | 22417/30987 [00:06<00:02, 3514.74it/s, now=None]\u001b[A\n",
      "chunk:  73%|█████████████▏    | 22769/30987 [00:06<00:02, 3513.65it/s, now=None]\u001b[A\n",
      "chunk:  75%|█████████████▍    | 23121/30987 [00:06<00:02, 3506.75it/s, now=None]\u001b[A\n",
      "chunk:  76%|█████████████▋    | 23472/30987 [00:06<00:02, 3503.25it/s, now=None]\u001b[A\n",
      "chunk:  77%|█████████████▊    | 23823/30987 [00:06<00:02, 3498.95it/s, now=None]\u001b[A\n",
      "chunk:  78%|██████████████    | 24173/30987 [00:06<00:01, 3498.17it/s, now=None]\u001b[A\n",
      "chunk:  79%|██████████████▏   | 24523/30987 [00:06<00:01, 3495.68it/s, now=None]\u001b[A\n",
      "chunk:  80%|██████████████▍   | 24878/30987 [00:07<00:01, 3494.71it/s, now=None]\u001b[A\n",
      "chunk:  81%|██████████████▋   | 25230/30987 [00:07<00:01, 3488.49it/s, now=None]\u001b[A\n",
      "chunk:  83%|██████████████▊   | 25580/30987 [00:07<00:01, 3485.72it/s, now=None]\u001b[A\n",
      "chunk:  84%|███████████████   | 25931/30987 [00:07<00:01, 3492.51it/s, now=None]\u001b[A\n",
      "chunk:  85%|███████████████▎  | 26290/30987 [00:07<00:01, 3505.64it/s, now=None]\u001b[A\n",
      "chunk:  86%|███████████████▍  | 26646/30987 [00:07<00:01, 3511.24it/s, now=None]\u001b[A\n",
      "chunk:  87%|███████████████▋  | 27000/30987 [00:07<00:01, 3513.85it/s, now=None]\u001b[A\n",
      "chunk:  88%|███████████████▉  | 27360/30987 [00:07<00:01, 3524.93it/s, now=None]\u001b[A\n",
      "chunk:  89%|████████████████  | 27716/30987 [00:07<00:00, 3519.01it/s, now=None]\u001b[A\n",
      "chunk:  91%|████████████████▎ | 28074/30987 [00:07<00:00, 3536.24it/s, now=None]\u001b[A\n",
      "chunk:  92%|████████████████▌ | 28428/30987 [00:08<00:00, 3530.88it/s, now=None]\u001b[A\n",
      "chunk:  93%|████████████████▋ | 28784/30987 [00:08<00:00, 3539.14it/s, now=None]\u001b[A\n",
      "chunk:  94%|████████████████▉ | 29142/30987 [00:08<00:00, 3538.62it/s, now=None]\u001b[A\n",
      "chunk:  95%|█████████████████▏| 29498/30987 [00:08<00:00, 3535.01it/s, now=None]\u001b[A\n",
      "chunk:  96%|█████████████████▎| 29854/30987 [00:08<00:00, 3528.85it/s, now=None]\u001b[A\n",
      "chunk:  97%|█████████████████▌| 30212/30987 [00:08<00:00, 3528.53it/s, now=None]\u001b[A\n",
      "chunk:  99%|█████████████████▊| 30568/30987 [00:08<00:00, 3521.61it/s, now=None]\u001b[A\n",
      "chunk: 100%|█████████████████▉| 30921/30987 [00:08<00:00, 3506.35it/s, now=None]\u001b[A\n",
      "chunk:   0%|                    | 37/30987 [02:23<33:19:06,  3.88s/it, now=None]\u001b[A"
     ]
    },
    {
     "name": "stdout",
     "output_type": "stream",
     "text": [
      "MoviePy - Done.\n"
     ]
    }
   ],
   "source": [
    "convert_video_to_audio(video_path, \"/Users/haydenoutlaw/Downloads/City Council Meeting 1_18_2024(1).mp3\")"
   ]
  },
  {
   "cell_type": "code",
   "execution_count": 20,
   "metadata": {},
   "outputs": [
    {
     "name": "stdout",
     "output_type": "stream",
     "text": [
      "CPU times: user 10min 17s, sys: 28.7 s, total: 10min 46s\n",
      "Wall time: 1min 58s\n"
     ]
    }
   ],
   "source": [
    "%%time\n",
    "transcript = transcriber.transcribe(\"/Users/haydenoutlaw/Downloads/City Council Meeting 1_18_2024(1).mp3\")"
   ]
  },
  {
   "cell_type": "code",
   "execution_count": 21,
   "metadata": {},
   "outputs": [
    {
     "name": "stdout",
     "output_type": "stream",
     "text": [
      "[{'timestamp': (0.0, 3.0), 'text': ' Take a cab to work at $5.'}, {'timestamp': (3.0, 5.84), 'text': \" I'm a spoke at $10 a cab ride every single day,\"}, {'timestamp': (5.84, 7.84), 'text': ' although he takes the bus back home,'}, {'timestamp': (7.84, 11.48), 'text': ' because the bus is not reliable to gain the work on time,'}, {'timestamp': (11.48, 13.24), 'text': \" and he certainly doesn't live close enough\"}, {'timestamp': (13.24, 15.72), 'text': ' to tour to walk to work.'}, {'timestamp': (15.72, 18.44), 'text': ' These convolutional uses can help bring the poor'}, {'timestamp': (18.44, 21.92), 'text': ' and the rich back into a relationship.'}, {'timestamp': (21.92, 26.84), 'text': ' It would help a lot. So as convolutional uses can'}, {'timestamp': (26.84, 31.28), 'text': ' perform you, one of the things that should be on the firm that the conditional use'}, {'timestamp': (31.28, 35.4), 'text': ' requestor has access to through safety and permits and city planning commission'}, {'timestamp': (35.4, 40.28), 'text': ' is are you willing to help the city with its affordable housing crisis and'}, {'timestamp': (40.28, 44.36), 'text': ' provide some sort of affordable housing component in your conditional use'}, {'timestamp': (44.36, 45.44), 'text': ' request.'}, {'timestamp': (45.44, 47.4), 'text': ' It needs to be part of the form,'}, {'timestamp': (47.4, 49.48), 'text': ' and it needs to be answered yes or no.'}, {'timestamp': (49.48, 50.32), 'text': ' Thank you.'}, {'timestamp': (51.88, 53.06), 'text': ' Thank you, Mr. Schoman.'}, {'timestamp': (55.64, 57.32), 'text': ' Good morning members of the council, Mike Schurman,'}, {'timestamp': (57.32, 60.3), 'text': ' 800-'}, {'timestamp': (60.3, 61.8), 'text': \" I'm here on behalf of the developer who is the applicant here.\"}, {'timestamp': (61.8, 63.84), 'text': \" We've got a great local ownership group here.\"}, {'timestamp': (63.84, 69.12), 'text': \" That's the developer with the proven track record. One of the team members at Tupperman of St. Vincent's we've had\"}, {'timestamp': (69.12, 74.64), 'text': ' incredible community engagement here with widespread support. As you all know the Fretz Recorder has'}, {'timestamp': (74.64, 80.0), 'text': ' been a great success. This building will anchor that corridor. Just want to clarify for the record'}, {'timestamp': (80.0, 85.28), 'text': ' our clients do not own the building. The archdiocese does. It will purchase the building so they'}, {'timestamp': (85.28, 89.68), 'text': ' are not responsible for it at this present moment. And there is no parking variance. We are'}, {'timestamp': (89.68, 95.12), 'text': \" could compliant. We've had city planning support. And we ask for your support as well in this\"}, {'timestamp': (95.12, 102.32), 'text': \" conditionally, you're super well. Thank you. All right. I'm obviously handing this matter for\"}, {'timestamp': (102.32, 110.44), 'text': ' Council Member Harris. What she says is the concern that her office heard from neighbors early in the process is parking in the area.'}, {'timestamp': (110.44, 115.28), 'text': ' The developer is working on a plan for Valley parking which limit neighborhood impact.'}, {'timestamp': (115.28, 121.68), 'text': ' This will allow Longbeke and building the comeback of the commerce developer and tends to create the same fields.'}, {'timestamp': (121.68, 126.8), 'text': ' Hotel St. Vincent on a much smaller scale that is appropriate for the neighborhood.'}, {'timestamp': (126.8, 134.0), 'text': \" So given her wishes, in the fact that she's out today, I'll move for approval, seconded by council member Green.\"}, {'timestamp': (138.0, 140.0), 'text': ' Need one more.'}, {'timestamp': (140.0, 141.0), 'text': ' Sorry.'}, {'timestamp': (142.0, 147.0), 'text': ' Five days, no, days. Thank you.'}, {'timestamp': (147.0, 170.54), 'text': ' Council Member, on page 30, all matters are being deferred to February 1st, zoning docket 8623 and motion M2432. On page 31, all matters as being deferred'}, {'timestamp': (170.54, 190.48), 'text': ' to February 1st. Zoning docket 8723, motion M2433. At the top of page 32, we have legislative group in zoning docket 8823 PNC ventures LLC requesting an'}, {'timestamp': (190.48, 194.4), 'text': ' amendment to the ordinance number 19,'}, {'timestamp': (194.4, 198.44), 'text': ' 447 MCS zoning docket 7999 to now'}, {'timestamp': (198.44, 200.64), 'text': ' go in a conditional use to permit a'}, {'timestamp': (200.64, 204.12), 'text': ' bar in a CBD to the store commercial and'}, {'timestamp': (204.12, 205.64), 'text': ' mixed use district,'}, {'timestamp': (205.64, 208.04), 'text': ' located on square 226,'}, {'timestamp': (209.0, 215.2), 'text': ' Part lots 25 and 26 are part lot 35 in the First Municipal District,'}, {'timestamp': (215.2, 216.92), 'text': ' bound to back around the last street,'}, {'timestamp': (216.92, 218.48), 'text': ' Canal Street, Commerce Street,'}, {'timestamp': (218.48, 221.2), 'text': ' Barons Street, Municipal addresses,'}, {'timestamp': (221.2, 223.68), 'text': ' 135 through 139,'}, {'timestamp': (223.68, 227.24), 'text': \" Coronna, let's read the recommendation of the City\"}, {'timestamp': (227.24, 229.4), 'text': ' Planner Commission being for approval'}, {'timestamp': (229.4, 232.24), 'text': ' subject to two additional provisals.'}, {'timestamp': (232.24, 237.52), 'text': ' We have motion M 2434 by Council Member Harris'}, {'timestamp': (237.52, 242.0), 'text': ' adding Council Member King approving and granted'}, {'timestamp': (242.0, 244.6), 'text': \" the applicant's amendment request on Zoning\"}, {'timestamp': (244.6, 245.0), 'text': ' docket 8823 subject to two provisors set the application is the application'}, {'timestamp': (245.0, 246.0), 'text': ' and'}, {'timestamp': (246.0, 247.0), 'text': ' grant'}, {'timestamp': (247.0, 248.0), 'text': ' the'}, {'timestamp': (248.0, 249.0), 'text': ' application'}, {'timestamp': (249.0, 250.0), 'text': ' amendment'}, {'timestamp': (250.0, 251.0), 'text': ' request'}, {'timestamp': (251.0, 252.0), 'text': ' on zoning'}, {'timestamp': (252.0, 253.0), 'text': ' docket'}, {'timestamp': (253.0, 254.0), 'text': ' 88'}, {'timestamp': (254.0, 255.0), 'text': ' 23'}, {'timestamp': (255.0, 256.0), 'text': ' subject'}, {'timestamp': (256.0, 257.0), 'text': ' to'}, {'timestamp': (257.0, 258.0), 'text': ' provide'}, {'timestamp': (258.0, 259.0), 'text': ' a'}, {'timestamp': (259.0, 260.0), 'text': ' city'}, {'timestamp': (260.0, 261.0), 'text': ' plan'}, {'timestamp': (261.0, 262.0), 'text': ' commission'}, {'timestamp': (262.0, 263.0), 'text': '.'}, {'timestamp': (263.0, 264.0), 'text': ' Thank you council'}, {'timestamp': (264.0, 266.96), 'text': \" member this is an effort to a restaurant looking at a crime to let's street so that it can operate as a bar. It is\"}, {'timestamp': (266.96, 272.32), 'text': ' hot novers which has acted as a de facto bar for many years and this is really just reconciling'}, {'timestamp': (273.36, 279.28), 'text': ' its licensing and zoning permissions with its historical operation. There was no opposition'}, {'timestamp': (279.28, 287.68), 'text': ' expressed to the City Planning Commission and the Planning commission finds it to be appropriate given the history and the context and therefore recommends approval.'}, {'timestamp': (289.68, 293.04), 'text': \" The next comment is for the day. It's online comments. You're going to see the\"}, {'timestamp': (293.04, 297.28), 'text': ' make a motion to adopt. Second by Council Member Moreno.'}, {'timestamp': (301.36, 303.52), 'text': ' Watching the sheets, five years, Bill and they.'}, {'timestamp': (308.0, 311.2), 'text': ' for the machines, five years, still needs, or should adopt it. Council members on page 33, zoning,'}, {'timestamp': (311.2, 337.92), 'text': ' Dr. 8923 has been deferred the February 1st123 as well as motion M2435 has been deferred to February'}, {'timestamp': (337.92, 347.0), 'text': ' 1st. On top of page 38, zoning doc at, 23 has been deferred to February 1st.'}, {'timestamp': (347.0, 366.0), 'text': \" On page 39, a legislative group in zoning. At 93, 23, Glen, I'm Amadee, requesting a conditional use to permit a bar in the HMC2 historic The state of the state of the state of the state of\"}, {'timestamp': (366.0, 368.0), 'text': ' the state of the state of'}, {'timestamp': (368.0, 370.0), 'text': ' the state of the state of'}, {'timestamp': (370.0, 372.0), 'text': ' the state of the state of'}, {'timestamp': (372.0, 374.0), 'text': ' the state of the state of'}, {'timestamp': (374.0, 376.0), 'text': ' the state of the state of'}, {'timestamp': (376.0, 378.0), 'text': ' the state of the state of'}, {'timestamp': (378.0, 380.0), 'text': ' the state of the state of'}, {'timestamp': (380.0, 382.0), 'text': ' the state of the state of the state of the state of'}, {'timestamp': (382.0, 384.0), 'text': ' the state of the state of'}, {'timestamp': (384.0, 386.4), 'text': ' the state of the state of the state of Bernard Avenue, the recommendation of the City Plan and Commission'}, {'timestamp': (386.4, 394.0), 'text': ' being for no recommendation. We have motion M2424 by Council Member King, approving and'}, {'timestamp': (394.0, 400.48), 'text': \" granted the applicant's conditional use request on zoning docket 9323, subject to two\"}, {'timestamp': (400.48, 404.48), 'text': ' provisals, including in the City Plan and Commission staff report.'}, {'timestamp': (406.56, 407.56), 'text': ' to two providers, including in the City Plan and Commission staff report. Thank you, Madam Court.'}, {'timestamp': (407.56, 416.6), 'text': ' Council Member, this is a proposal to allow a bar within the Wisdom Reception facility.'}, {'timestamp': (416.6, 421.24), 'text': ' The wisdom is seeking to sort of make its reception hall operations a little bit more'}, {'timestamp': (421.24, 426.24), 'text': ' contemporary, and as part of that is adding a bond to the ground floor'}, {'timestamp': (426.24, 433.04), 'text': ' that requires conditional use approval. The staff recommended approval but there was some'}, {'timestamp': (433.04, 438.64), 'text': ' neighborhood opposition and based off of that opposition the planning commissions vote was split'}, {'timestamp': (438.64, 442.16), 'text': ' and this is before you with no recommendation from the planning commission.'}, {'timestamp': (443.28, 445.0), 'text': ' Thank you we We have.'}, {'timestamp': (445.0, 448.0), 'text': \" Common call from us then I'm a deal.\"}, {'timestamp': (452.0, 457.0), 'text': ' Miss Amadee come to the mic all by Mr. Miles ground us in.'}, {'timestamp': (459.0, 466.08), 'text': \" Good morning. My name is going to have a day and I will have been in operation with the Witherman's September, February, last three years. We were in the\"}, {'timestamp': (466.08, 471.68), 'text': ' Havan for 27 years. We in a business analysis have changed. We decided we'}, {'timestamp': (471.68, 475.04), 'text': \" like to take the first floor of the Witherman's September to a change of use\"}, {'timestamp': (475.04, 479.2), 'text': ' into off-scale type of high-edge effect to give us a little more opportunity to bring'}, {'timestamp': (479.2, 483.44), 'text': \" more business to the Havan room. We have been we've believed that we have been a\"}, {'timestamp': (483.44, 486.24), 'text': ' great fobby to the New Orleans area to say, but not'}, {'timestamp': (486.24, 489.76), 'text': ' Avenue and that we want to continue to bring business'}, {'timestamp': (489.76, 491.84), 'text': ' to say, but not Avenue in the right type of business'}, {'timestamp': (491.84, 493.12), 'text': ' to say, but not Avenue.'}, {'timestamp': (493.12, 494.64), 'text': ' So again, we thank you for your time.'}, {'timestamp': (494.64, 497.4), 'text': ' We hope you can see the information for the change of use.'}, {'timestamp': (525.6, 532.0), 'text': \" I'm going to say, I'm going to say, I'm going to say, I'm going to say, I'm going to say, I'm going to say, I'm going to say, I'm going to say, I'm going to say, I'm going to say, I'm going to say, I'm going to say, I'm going to say, I'm going to say, I'm going to say, I'm going to say, I'm going to say, I'm going to say, I'm going to say, I'm going to say, I'm going to say, I'm going to say, I'm going to say, I'm going to say, I'm going to say, I'm going to say, I'm going to say, I'm going to say, I'm going to say, I'm going to say, I'm going to say, I'm going to say, I'm going to say, I'm going to say, I'm going to say, I'm going to say, I'm going to say, I'm going to say, I'm going to say, I'm going to say, I'm going to say, I'm going to say, I'm going to say, I'm going to say, I'm going to say, I'm going to say, I'm going to say, I'm going to say, I'm going to say, I'm going to say, I'm going to say, I'm going to say, I'm going to say, I'm going to say, I'm going to say, I'm going to say, I'm going to say, I'm going to say, I'm going to say, I'm going to say, I'm going to say, I'm going to say, I'm going to say, I'm going to say, I'm going to say, I'm going to say, I'm going to say, I'm going to say, I'm going to say, I'm going to say, I'm going to say, I'm going to say, I'm going to say, I'm going to say, to complement the businesses had for two decades. As Glenn puts it, you've got the old school hotel banquet style setup that you see at event halls and this would be having not on the second\"}, {'timestamp': (532.0, 536.64), 'text': ' floor and the first floor would be more like the hotel lobby type setup to add to it. When we'}, {'timestamp': (536.64, 541.76), 'text': ' have the NPP meeting, the room is full of supporters. We had we provided numerous letters of support'}, {'timestamp': (541.76, 550.08), 'text': ' from neighbors and neighboring business owners. Several folks are here today in the back. The level of support scene here I think is rare'}, {'timestamp': (550.8, 556.96), 'text': \" and speaks what a Glen who he is, how he runs his business and he's run his business and\"}, {'timestamp': (556.96, 560.72), 'text': \" respect the way it's been conscious of the neighbors and the community. So a specific\"}, {'timestamp': (560.72, 578.0), 'text': \" question now for this approval but beyond that we'd like to thank City Planning staff for recommending approval and their report and we'd also like to note that on at the commission hearing, there was not a full commission there, but the majority of the commissioners present did vote for approval.\"}, {'timestamp': (578.0, 585.76), 'text': ' And we thank everyone at County and the council for their work on this and look forward to Glenn being a good neighbor in a new form.'}, {'timestamp': (585.76, 591.6), 'text': ' Going forward. Thank you. Mr. Charmina. He is in support.'}, {'timestamp': (593.12, 599.12), 'text': \" Are you coming up? Okay. He's in support. Will he add him?\"}, {'timestamp': (607.0, 610.0), 'text': ' Good morning. My name is Willie Adams.'}, {'timestamp': (610.0, 612.0), 'text': \" I'm a retired town square.\"}, {'timestamp': (612.0, 614.0), 'text': ' Beauty Sloan.'}, {'timestamp': (614.0, 618.0), 'text': ' On St. Anthony Street, right around the corner from'}, {'timestamp': (618.0, 620.0), 'text': ' like London have the building on St.'}, {'timestamp': (620.0, 628.48), 'text': \" But I come in behalf of wisdom reception hall and I've been\"}, {'timestamp': (628.48, 635.76), 'text': \" known going and even them for quite a time long time. It's a nice building\"}, {'timestamp': (635.76, 666.0), 'text': \" of everything we have there's nice and accommodate the people that comes to the place. It keeps everything safe, clean, the club that we apply for the license for the who gather. Thank you all. She come and check it out to yourself.\"}, {'timestamp': (666.0, 670.0), 'text': \" If you'll see for yourself, it's a very classy place.\"}, {'timestamp': (670.0, 676.0), 'text': ' And I would appreciate if it would be approved to get the permit that it needs.'}, {'timestamp': (676.0, 677.0), 'text': ' Thank you.'}, {'timestamp': (677.0, 678.0), 'text': ' Thank you.'}, {'timestamp': (678.0, 680.0), 'text': ' Thomas Ann Cavaliere.'}, {'timestamp': (680.0, 687.0), 'text': ' Follow by Danielle Miller.'}, {'timestamp': (687.0, 696.0), 'text': ' Hi, my name is Ann Cavaliere.'}, {'timestamp': (696.0, 702.0), 'text': ' Previous employed by the Bureau of Treasury for 37 years with the City of New Orleans.'}, {'timestamp': (702.0, 706.12), 'text': ' Upon visiting the wisdom and knowing'}, {'timestamp': (706.12, 712.84), 'text': ' on the land through public serving, through tax-related issues.'}, {'timestamp': (712.84, 722.96), 'text': ' I knew him and also his deceased brother, very professional,'}, {'timestamp': (722.96, 732.32), 'text': ' beautiful, spirited people, my experience in visiting, it was refreshing, visiting'}, {'timestamp': (732.32, 745.0), 'text': \" the wisdom and just being able to feel safe, to actually feel the clothes on and grow But clothes aren't a girl and feel beautiful in a safe environment.\"}, {'timestamp': (745.0, 749.12), 'text': \" So I'm hoping that he is approved.\"}, {'timestamp': (750.08, 755.08), 'text': \" It's a positive situation, safe talking\"}, {'timestamp': (756.44, 759.8), 'text': ' and the type of place that we need'}, {'timestamp': (759.8, 764.8), 'text': ' where people can actually go to and a nice atmosphere'}, {'timestamp': (768.92, 775.96), 'text': \" people can actually go to and nice atmosphere and feel safe and have some elegance and a classy upscale environment so I'm hoping that he is\"}, {'timestamp': (775.96, 781.48), 'text': ' approved for people, beautiful people. Thank you.'}, {'timestamp': (781.48, 789.12), 'text': ' Thank you Mr. Mr. Miller. Ms Miss Miller is in support. We have a comment from Councilman'}, {'timestamp': (789.12, 791.2), 'text': ' Patama. Is there any online comments?'}, {'timestamp': (791.2, 792.2), 'text': ' Okay.'}, {'timestamp': (792.2, 798.72), 'text': \" No, I mean, just to say, yeah, I've been to the wisdom. I mean, from my family holding\"}, {'timestamp': (798.72, 806.9), 'text': \" events there to private events, I don't even know why the remedies are mild, but I'll be here to talk about the\"}, {'timestamp': (806.9, 811.7), 'text': \" level of class of one of the Wallace traditional families. And we'll talk about it in terms\"}, {'timestamp': (811.7, 819.38), 'text': \" of business in culture. But I just wanted to, and I think it's even more important that\"}, {'timestamp': (819.38, 827.76), 'text': ' we grant this because many of the traditional African-American families and businesses that are being gentrified out of that community, if you look at some of these'}, {'timestamp': (827.76, 833.04), 'text': \" established, now they're not the amadees. They're not traditional families that\"}, {'timestamp': (833.04, 838.32), 'text': ' have been there. And I think of nothing else, what this does is it solidifies'}, {'timestamp': (838.32, 843.84), 'text': ' this spot and gives this family that has done great business in our city and'}, {'timestamp': (843.84, 845.74), 'text': ' culture for a long time.'}, {'timestamp': (845.74, 850.1), 'text': \" The opportunity to make that saying that spot for New Orleans, I'm not against New\"}, {'timestamp': (850.1, 853.02), 'text': \" Orleans, I'm just a thousand percent for us.\"}, {'timestamp': (853.02, 855.62), 'text': ' And you guys have always been for us.'}, {'timestamp': (855.62, 859.38), 'text': ' Thank you, thank you, Council of the Thomas.'}, {'timestamp': (859.38, 867.44), 'text': ' The property owner, when M&D has operated the wisdom for wisdom for 20 years at this site and is well regarded in the community'}, {'timestamp': (867.44, 873.98), 'text': \" I'll put North W receive some honors from immediate neighbors regarding knowledge levels at this location in response\"}, {'timestamp': (874.64, 881.04), 'text': ' Our office has been in touch with Mr. Amadee who has reassured our office that measures will be taken to'}, {'timestamp': (881.04, 889.72), 'text': \" Abathe's issues including keeping doors closed at all times to announce evaporation and ensuring that no vehicles in the parking lot are playing a lot of music.\"}, {'timestamp': (889.72, 895.08), 'text': \" It's also committed to being a direct being indirect contact for neighbors being a direct\"}, {'timestamp': (895.08, 905.12), 'text': \" contact for neighbors offering the cell phone number that he can be notified of any quality of the issues with this, within his control, with this and we'll approve and\"}, {'timestamp': (905.12, 908.32), 'text': ' the second, second by Council of the Green.'}, {'timestamp': (913.36, 916.24), 'text': ' We have six year age, no names, thank you.'}, {'timestamp': (921.12, 928.32), 'text': \" We're now on page 40. All matters. Zoning docket 9423 has been deferred to 21.\"}, {'timestamp': (928.32, 932.48), 'text': ' Zoning docket 9523 has been deferred to 21.'}, {'timestamp': (932.48, 935.08), 'text': ' On page 41, all matters.'}, {'timestamp': (935.08, 938.36), 'text': ' The legislative group in street name change.'}, {'timestamp': (938.36, 948.8), 'text': ' For 23 has been deferred to February 1, as well as motion line over in 2356 has been deferred to February 1st.'}, {'timestamp': (948.8, 969.6), 'text': ' But now on page 44 we have We have Artness Calendar number 34198 has been deferred to February 22nd.'}, {'timestamp': (969.6, 976.56), 'text': ' Artness Calendar number 3427 has been deferred to February 22nd.'}, {'timestamp': (976.56, 985.24), 'text': \" I mean February 1st, I'm sorry, Artness Calendar number 3427 has been deferred to February 1st.\"}, {'timestamp': (985.24, 986.4), 'text': ' At the bottom of the page,'}, {'timestamp': (986.4, 990.76), 'text': \" Artney's calendar number 3447 has been withdrawn.\"}, {'timestamp': (990.76, 994.8), 'text': ' On top of page 45,'}, {'timestamp': (994.8, 1009.08), 'text': \" all matters the legislative group in Artney's calendar number 3430385 has been deferred to February 1st, motion line over M23-426 has been deferred\"}, {'timestamp': (1009.08, 1019.24), 'text': ' to February 1st. On top of page 46, motion line over M23-427 has been deferred to February'}, {'timestamp': (1019.24, 1026.0), 'text': ' 1st. Council members, we now need to go back.'}, {'timestamp': (1026.0, 1039.0), 'text': ' Pack to page 26, the regular agenda.'}, {'timestamp': (1039.0, 1049.76), 'text': ' We have the HTLC appeal of 5516-choperat toolistry has been deferred to February 1st on top of page 27.'}, {'timestamp': (1052.48, 1072.0), 'text': ' We have the HCLCO Pio of 55 18 has been deferred to February 1st. On top of page 28, we have the'}, {'timestamp': (1072.0, 1085.0), 'text': ' University Area All Street Park and has been withdrawn for the applicants with Okay council members.'}, {'timestamp': (1085.0, 1086.0), 'text': ' All right.'}, {'timestamp': (1086.0, 1089.48), 'text': ' It seems like we need to suspend the rule, the court of'}, {'timestamp': (1089.48, 1091.0), 'text': ' or this is on first reading.'}, {'timestamp': (1091.0, 1093.0), 'text': ' Wow to suspend the rules.'}, {'timestamp': (1093.0, 1094.0), 'text': ' Wait, wait, wait, no.'}, {'timestamp': (1094.0, 1095.0), 'text': ' No, no.'}, {'timestamp': (1095.0, 1097.0), 'text': ' Yeah, thanks.'}, {'timestamp': (1097.0, 1100.0), 'text': \" Let's suspend the rules.\"}, {'timestamp': (1100.0, 1101.0), 'text': ' We good.'}, {'timestamp': (1101.0, 1114.0), 'text': \" That's the moon.\"}, {'timestamp': (1116.0, 1118.0), 'text': ' What do you mean? We need the roads please.'}, {'timestamp': (1127.0, 1128.0), 'text': ' Okay. Okay.'}, {'timestamp': (1128.0, 1129.0), 'text': ' Okay.'}, {'timestamp': (1129.0, 1130.0), 'text': ' Five for us.'}, {'timestamp': (1130.0, 1134.0), 'text': ' On the song for us reading on this count the number 34,'}, {'timestamp': (1134.0, 1136.0), 'text': ' 533 by Council member Kings.'}, {'timestamp': (1136.0, 1138.0), 'text': ' And on this the temporary wage seven fees,'}, {'timestamp': (1138.0, 1143.0), 'text': ' time to pay the requirements within and around for me recreation community center.'}, {'timestamp': (1143.0, 1145.4), 'text': ' Located at 14 1400 St. Philos Street,'}, {'timestamp': (1145.4, 1147.24), 'text': ' New Orleans, Louisiana, and conjunction'}, {'timestamp': (1147.24, 1149.24), 'text': ' with the old and new South Fellows,'}, {'timestamp': (1149.24, 1152.0), 'text': ' annual parade events scheduled for April 21,'}, {'timestamp': (1153.0, 1155.48), 'text': ' 2024 from 2 p.m. this experiment,'}, {'timestamp': (1155.48, 1157.32), 'text': ' the specified duration of the environment'}, {'timestamp': (1157.32, 1160.64), 'text': ' of the waiver otherwise to provide respect there too.'}, {'timestamp': (1160.64, 1163.44), 'text': ' On its calendar, number 34,534,'}, {'timestamp': (1163.44, 1164.84), 'text': ' by council members, Jerusalem,'}, {'timestamp': (1164.84, 1187.04), 'text': ' Moreno, Morel, Harris, King, Greenetownless. to the property, firm hearing office are ordered and absent good, cause the property almost fail to do'}, {'timestamp': (1187.04, 1192.88), 'text': ' so timely to reply to hearing office or order that property to be abated by demolition and'}, {'timestamp': (1192.88, 1197.6), 'text': ' evidence that the hearing shows the property and dangerous public health, safety or welfare to'}, {'timestamp': (1197.6, 1204.24), 'text': ' require the Department of Code Enforcement to proceed to abate to abate by demolition upon'}, {'timestamp': (1204.24, 1206.0), 'text': ' expiration of the hearing judgment of field an exploration of the here in judgment of'}, {'timestamp': (1206.0, 1208.0), 'text': ' field period to require the department of'}, {'timestamp': (1208.0, 1210.0), 'text': ' quote enforcement to report to the city council'}, {'timestamp': (1210.0, 1213.0), 'text': ' regarding properties not demolished as'}, {'timestamp': (1213.0, 1215.0), 'text': ' order by the here in office.'}, {'timestamp': (1215.0, 1217.0), 'text': ' Another wife of a virus like that too.'}, {'timestamp': (1217.0, 1220.0), 'text': ' On this calendar number 34,'}, {'timestamp': (1220.0, 1223.0), 'text': ' 535 by council members Jerusalem'}, {'timestamp': (1223.0, 1226.56), 'text': ' Moreno, Morel Harris, King, Green and Thomas.'}, {'timestamp': (1226.56, 1229.08), 'text': ' It honestly required the Department of Code enforcement'}, {'timestamp': (1229.08, 1231.64), 'text': ' to create and maintain a public face and dash'}, {'timestamp': (1231.64, 1236.4), 'text': ' while finalizing those status of enforcement'}, {'timestamp': (1236.4, 1239.64), 'text': ' for proceeding against the properties and evaluation'}, {'timestamp': (1239.64, 1241.88), 'text': ' of the minimum property maintenance code'}, {'timestamp': (1241.88, 1244.12), 'text': ' and otherwise the provider specs there too.'}, {'timestamp': (1244.12, 1220.0), 'text': ' On this calendar number 34,'}, {'timestamp': (1247.12, 1248.62), 'text': ' in fact, 36, but on some of the Thomas,'}, {'timestamp': (1248.62, 1251.94), 'text': ' it only saw a minimum or a day in station 175'}, {'timestamp': (1251.94, 1253.94), 'text': ' of the code of the city of New Orleans'}, {'timestamp': (1253.94, 1256.22), 'text': ' to establish a mere time speed limit'}, {'timestamp': (1256.22, 1258.22), 'text': ' of five miles per hour for vessels'}, {'timestamp': (1258.22, 1259.74), 'text': ' trained traveling,'}, {'timestamp': (1259.74, 1261.86), 'text': ' portions of shell mental repairs'}, {'timestamp': (1261.86, 1264.26), 'text': ' and otherwise the provider specs there too.'}, {'timestamp': (1264.26, 1268.48), 'text': ' On this calendar number 34,000 34537 by council members Jerusalem,'}, {'timestamp': (1268.48, 1270.52), 'text': ' Moreno-Green and Thomas Barroquis.'}, {'timestamp': (1270.52, 1275.6), 'text': ' It is on this number 29735, MCF is amended in title.'}, {'timestamp': (1275.6, 1277.96), 'text': ' It is on this providing an operating budget of revenues'}, {'timestamp': (1277.96, 1280.6), 'text': ' for the city of New Orleans, but it is 2024.'}, {'timestamp': (1280.6, 1283.24), 'text': ' So, appropriated in addition to 109 million,'}, {'timestamp': (1283.24, 1285.0), 'text': ' 85,400'}, {'timestamp': (1285.0, 1287.68), 'text': ' and $4 to the intergovernmental revenues'}, {'timestamp': (1287.68, 1290.08), 'text': ' and otherwise to provide respect there too.'}, {'timestamp': (1290.08, 1293.4), 'text': ' On its calendar number 34,538 by council members,'}, {'timestamp': (1293.4, 1296.04), 'text': ' Jerusalem, Moreno, Green and Thomas by request.'}, {'timestamp': (1296.04, 1299.36), 'text': ' It is to remain on its number 29736.'}, {'timestamp': (1299.36, 1301.12), 'text': ' MCIS has amended in title.'}, {'timestamp': (1301.12, 1302.96), 'text': ' It is on its providing an operating budget'}, {'timestamp': (1302.96, 1311.72), 'text': ' of expenditures for the city of New Orleans for the year 2024 to appropriate an additional 109 million, $85,400 to the'}, {'timestamp': (1311.72, 1316.88), 'text': ' intergovernmental expenditures and otherwise to provide respect.'}, {'timestamp': (1316.88, 1322.56), 'text': ' So, on this calendar number 34,000, factored in nine by council member Jerusalem, Thomas,'}, {'timestamp': (1322.56, 1325.8), 'text': ' Green, Moreno, King and and Harris, by request.'}, {'timestamp': (1325.8, 1328.92), 'text': \" They're ordered to amend the real day in section 2-33\"}, {'timestamp': (1328.92, 1330.92), 'text': ' of the code of the city of New Orleans'}, {'timestamp': (1330.92, 1333.08), 'text': ' to increase the number of two-lane universities,'}, {'timestamp': (1333.08, 1336.0), 'text': ' scholarships awarded by the mayor of the city of New Orleans,'}, {'timestamp': (1336.0, 1338.6), 'text': ' each year, and otherwise, to provide respect there too.'}, {'timestamp': (1338.6, 1340.4), 'text': ' All in this calendar, number 34,500,'}, {'timestamp': (1340.4, 1342.48), 'text': ' by a 40 by council member, Thomas,'}, {'timestamp': (1342.48, 1347.44), 'text': \" they're ordered to temporarily waive certain fees,, term fees and requirements within and around fees,\"}, {'timestamp': (1347.44, 1350.36), 'text': ' saying, Chase, most of purpose in the 1616 phase,'}, {'timestamp': (1350.36, 1352.42), 'text': ' domino Avenue 70, row 11,'}, {'timestamp': (1352.42, 1354.94), 'text': ' as well as the Louisiana and conjunction with the God,'}, {'timestamp': (1354.94, 1356.34), 'text': ' I fall this Baptist church,'}, {'timestamp': (1356.34, 1360.02), 'text': ' best is anniversary, all Sunday, February 18, 2024,'}, {'timestamp': (1360.02, 1361.72), 'text': ' from 12 noon to 4 p.m.'}, {'timestamp': (1361.72, 1364.54), 'text': ' The special battle durations and boundaries of the same way was'}, {'timestamp': (1364.54, 1367.04), 'text': ' otherwise provides the fair to that concludes'}, {'timestamp': (1367.04, 1368.24), 'text': ' ordinance offers reading.'}, {'timestamp': (1373.12, 1374.52), 'text': \" Eugene, you're right.\"}, {'timestamp': (1377.52, 1380.72), 'text': ' You got the imagery set second and resolve in favor.'}, {'timestamp': (1381.92, 1383.0), 'text': ' Oh yeah.'}, {'timestamp': (1383.0, 1384.36), 'text': \" I'm missing some votes, guys.\"}, {'timestamp': (1385.0, 1388.0), 'text': ' Dave, come vote your machine real quick.'}, {'timestamp': (1388.0, 1390.0), 'text': ' You got JP? Yeah.'}, {'timestamp': (1390.0, 1392.0), 'text': ' Council Member Ronald is going to be a yes.'}, {'timestamp': (1392.0, 1393.0), 'text': ' JP, yes.'}, {'timestamp': (1393.0, 1394.0), 'text': ' Just say yes.'}, {'timestamp': (1394.0, 1395.0), 'text': ' We got five yes.'}, {'timestamp': (1395.0, 1396.0), 'text': ' Thank you.'}, {'timestamp': (1396.0, 1400.0), 'text': ' So.'}, {'timestamp': (1400.0, 1403.0), 'text': ' Okay.'}]\n"
     ]
    }
   ],
   "source": [
    "print(transcript[\"chunks\"])"
   ]
  },
  {
   "cell_type": "code",
   "execution_count": null,
   "metadata": {},
   "outputs": [],
   "source": []
  }
 ],
 "metadata": {
  "kernelspec": {
   "display_name": "Python 3 (ipykernel)",
   "language": "python",
   "name": "python3"
  },
  "language_info": {
   "codemirror_mode": {
    "name": "ipython",
    "version": 3
   },
   "file_extension": ".py",
   "mimetype": "text/x-python",
   "name": "python",
   "nbconvert_exporter": "python",
   "pygments_lexer": "ipython3",
   "version": "3.11.6"
  }
 },
 "nbformat": 4,
 "nbformat_minor": 4
}
