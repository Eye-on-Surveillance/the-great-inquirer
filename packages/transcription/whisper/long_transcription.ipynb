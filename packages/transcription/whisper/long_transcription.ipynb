{
 "cells": [
  {
   "cell_type": "code",
   "execution_count": 1,
   "metadata": {
    "tags": []
   },
   "outputs": [
    {
     "data": {
      "application/vnd.jupyter.widget-view+json": {
       "model_id": "582718ec5efa4efa9c8e3e2f6cbc1dfc",
       "version_major": 2,
       "version_minor": 0
      },
      "text/plain": [
       "Downloading (…)lve/main/config.json:   0%|          | 0.00/1.94k [00:00<?, ?B/s]"
      ]
     },
     "metadata": {},
     "output_type": "display_data"
    },
    {
     "data": {
      "application/vnd.jupyter.widget-view+json": {
       "model_id": "ba825ad3546842959264368a04972f65",
       "version_major": 2,
       "version_minor": 0
      },
      "text/plain": [
       "Downloading pytorch_model.bin:   0%|          | 0.00/151M [00:00<?, ?B/s]"
      ]
     },
     "metadata": {},
     "output_type": "display_data"
    },
    {
     "data": {
      "application/vnd.jupyter.widget-view+json": {
       "model_id": "a8f09e4f94244f68b43b5530d6fe8a39",
       "version_major": 2,
       "version_minor": 0
      },
      "text/plain": [
       "Downloading (…)neration_config.json:   0%|          | 0.00/1.59k [00:00<?, ?B/s]"
      ]
     },
     "metadata": {},
     "output_type": "display_data"
    },
    {
     "data": {
      "application/vnd.jupyter.widget-view+json": {
       "model_id": "1a0024afd8924f69854ebd03b0099780",
       "version_major": 2,
       "version_minor": 0
      },
      "text/plain": [
       "Downloading (…)okenizer_config.json:   0%|          | 0.00/805 [00:00<?, ?B/s]"
      ]
     },
     "metadata": {},
     "output_type": "display_data"
    },
    {
     "data": {
      "application/vnd.jupyter.widget-view+json": {
       "model_id": "fe7573fc53bc462ba649df9d489dfcd2",
       "version_major": 2,
       "version_minor": 0
      },
      "text/plain": [
       "Downloading (…)olve/main/vocab.json:   0%|          | 0.00/798k [00:00<?, ?B/s]"
      ]
     },
     "metadata": {},
     "output_type": "display_data"
    },
    {
     "data": {
      "application/vnd.jupyter.widget-view+json": {
       "model_id": "2cf9932a4d8747c19b73cc214f22dda5",
       "version_major": 2,
       "version_minor": 0
      },
      "text/plain": [
       "Downloading (…)/main/tokenizer.json:   0%|          | 0.00/2.41M [00:00<?, ?B/s]"
      ]
     },
     "metadata": {},
     "output_type": "display_data"
    },
    {
     "data": {
      "application/vnd.jupyter.widget-view+json": {
       "model_id": "069b2b09f06f4075a442e334716b858c",
       "version_major": 2,
       "version_minor": 0
      },
      "text/plain": [
       "Downloading (…)olve/main/merges.txt:   0%|          | 0.00/456k [00:00<?, ?B/s]"
      ]
     },
     "metadata": {},
     "output_type": "display_data"
    },
    {
     "data": {
      "application/vnd.jupyter.widget-view+json": {
       "model_id": "4a3b5b166667489790a2810be1622105",
       "version_major": 2,
       "version_minor": 0
      },
      "text/plain": [
       "Downloading (…)main/normalizer.json:   0%|          | 0.00/52.7k [00:00<?, ?B/s]"
      ]
     },
     "metadata": {},
     "output_type": "display_data"
    },
    {
     "data": {
      "application/vnd.jupyter.widget-view+json": {
       "model_id": "9b9147cee2ca49bcab90a464979965d4",
       "version_major": 2,
       "version_minor": 0
      },
      "text/plain": [
       "Downloading (…)in/added_tokens.json:   0%|          | 0.00/34.6k [00:00<?, ?B/s]"
      ]
     },
     "metadata": {},
     "output_type": "display_data"
    },
    {
     "data": {
      "application/vnd.jupyter.widget-view+json": {
       "model_id": "beab3cba5dee402a8db9daed0850e3cb",
       "version_major": 2,
       "version_minor": 0
      },
      "text/plain": [
       "Downloading (…)cial_tokens_map.json:   0%|          | 0.00/1.83k [00:00<?, ?B/s]"
      ]
     },
     "metadata": {},
     "output_type": "display_data"
    },
    {
     "data": {
      "application/vnd.jupyter.widget-view+json": {
       "model_id": "6bcd8510ab83405aba7ba270f70c45d4",
       "version_major": 2,
       "version_minor": 0
      },
      "text/plain": [
       "Downloading (…)rocessor_config.json:   0%|          | 0.00/185k [00:00<?, ?B/s]"
      ]
     },
     "metadata": {},
     "output_type": "display_data"
    }
   ],
   "source": [
    "import torch\n",
    "from transformers import pipeline\n",
    "from datasets import load_dataset\n",
    "# requires ffmpeg\n",
    "\n",
    "device = \"cpu\"\n",
    "\n",
    "pipe = pipeline(\n",
    "    \"automatic-speech-recognition\",\n",
    "    model = \"openai/whisper-tiny.en\",\n",
    "    chunk_length_s = 10,\n",
    "    device = device,\n",
    ")\n"
   ]
  },
  {
   "cell_type": "code",
   "execution_count": 7,
   "metadata": {
    "tags": []
   },
   "outputs": [
    {
     "name": "stderr",
     "output_type": "stream",
     "text": [
      "/Users/haydenoutlaw/anaconda3/lib/python3.11/site-packages/transformers/generation/utils.py:1346: UserWarning: Using `max_length`'s default (448) to control the generation length. This behaviour is deprecated and will be removed from the config in v5 of Transformers -- we recommend using `max_new_tokens` to control the maximum length of the generation.\n",
      "  warnings.warn(\n"
     ]
    }
   ],
   "source": [
    "transcript = pipe(\"audio/trial_meeting_short.mp3\", batch_size = 1, return_timestamps = True)[\"chunks\"]\n"
   ]
  },
  {
   "cell_type": "code",
   "execution_count": 8,
   "metadata": {},
   "outputs": [
    {
     "name": "stdout",
     "output_type": "stream",
     "text": [
      "[{'timestamp': (0.0, 3.84), 'text': \" last two Sundays that I saw that. So I'm going to ask you to communicate to the\"}, {'timestamp': (4.64, 10.59), 'text': \" work crews if you will. My appreciation and I know my fellow council members would agree because that's\"}, {'timestamp': (10.59, 16.85), 'text': \" difficult work to do digging out and you know being in the sun you can't really cover it because you've got a back hole\"}, {'timestamp': (16.85, 20.85), 'text': \" digger right there. It's too large. But the bottom line is that I also know that the sewage\"}, {'timestamp': (20.85, 24.4), 'text': ' and water bowl is concerned about their well-being because you have the'}, {'timestamp': (24.4, 29.67), 'text': ' attempts and the stations and the light, but that work is greatly appreciated and I want to thank you for your communication.'}, {'timestamp': (29.67, 33.87), 'text': ' As I leave it has no reflection on the importance of this, especially the suenu audible'}, {'timestamp': (33.87, 34.87), 'text': ' power complex.'}, {'timestamp': (34.87, 37.57), 'text': \" I'm so proud to be a member of this council where that very\"}, {'timestamp': (37.57, 44.0), 'text': ' significant project is taking place and I appreciate the information that you all regularly share with us.'}, {'timestamp': (44.0, 47.6), 'text': \" And addressing the leaps and addressing the street repairs, I've seen them.\"}, {'timestamp': (47.6, 51.03), 'text': \" It's good to have the new work crews, the folks of certain areas,\"}, {'timestamp': (51.03, 57.97), 'text': \" on Punjutrain Park, for example, in Gentile. They've seen the repairs and the completion of the repairs and a smoothing out of others.\"}, {'timestamp': (57.97, 61.49), 'text': ' We certainly have a lot to do, but I do like to emphasize to the public'}, {'timestamp': (61.49, 66.52), 'text': ' especially as we go around the community meetings.'}, {'timestamp': (66.52, 70.03), 'text': ' That a lot is being done in the midst of all the challenges.'}, {'timestamp': (70.03, 72.07), 'text': \" I'd be a little bit more disappointed\"}, {'timestamp': (72.07, 74.19), 'text': \" if I didn't get the communications from you all\"}, {'timestamp': (74.19, 76.33), 'text': ' that I do from Mr. Spooner and the like.'}, {'timestamp': (76.33, 78.57), 'text': ' I appreciate that, Mr. Nelson.'}, {'timestamp': (78.57, 80.33), 'text': ' But thank you for your communications.'}, {'timestamp': (80.33, 93.15), 'text': \" And let's continue to work together because the work that's being done is enhancing our ability to withstand flooding, to be a stronger community, to maybe reduce insurance rates in the long run.\"}, {'timestamp': (93.15, 97.01), 'text': ' So thank you to the staff and thank you to you for your work and I look forward to'}, {'timestamp': (97.01, 99.05), 'text': ' communications from you in the future.'}, {'timestamp': (99.05, 100.05), 'text': ' Thank you very much.'}, {'timestamp': (100.05, 101.05), 'text': ' Thank you.'}, {'timestamp': (101.05, 102.0), 'text': ' Okay.'}, {'timestamp': (102.0, 108.0), 'text': ' Quick thing on the webinar power rendering as you can see the two yellow rectangles,'}, {'timestamp': (108.0, 112.91), 'text': ' those or other side frequency converters that will come on, come online and peak'}, {'timestamp': (114.99, 118.33), 'text': ' August, September, peak right around 2025.'}, {'timestamp': (118.33, 121.33), 'text': ' The blue future location operations center.'}, {'timestamp': (121.33, 125.28), 'text': \" That's part of phase two. Phase two will come on towards the end of 2026.\"}, {'timestamp': (125.28, 132.91), 'text': ' In all of the other auxiliary equipment you see that turbineban 7 are the transformers the auxiliary equipment the utility rack those will be in place'}, {'timestamp': (132.91, 139.33), 'text': \" IP hurricane season up 2025. And the last slide before I turn it over to Renee, it's really\"}, {'timestamp': (139.33, 143.0), 'text': ' photos of the photos of our static frequency converter.'}, {'timestamp': (143.0, 146.0), 'text': ' The left is actually a side frequency converter'}, {'timestamp': (146.0, 150.75), 'text': \" and I was just reminded that that's just one component\"}, {'timestamp': (150.75, 152.51), 'text': ' of the static frequency converter.'}, {'timestamp': (152.51, 153.79), 'text': ' And if you look to the right,'}, {'timestamp': (153.79, 157.25), 'text': ' this is a new photo we received last week for on program'}, {'timestamp': (157.25, 161.61), 'text': \" manager. That is actually turban seven. They're doing some testing of\"}, {'timestamp': (161.61, 162.32), 'text': ' turban seven.'}, {'timestamp': (162.32, 164.4), 'text': \" So that's on combustion turbine.\"}, {'timestamp': (164.4, 167.12), 'text': \" 22 megawatts, it's a dual fuel.\"}, {'timestamp': (167.12, 176.29), 'text': \" Primer is gonna be natural gas gas backup is going to be diesel and that completes the power second turn over to renegan's house a chief of customer service a relative to a smart radio.\"}, {'timestamp': (176.29, 179.41), 'text': ' Thank you, Ron. Good afternoon.'}, {'timestamp': (179.41, 185.0), 'text': \" So I'm here. I'm going to provide an update on the\"}, {'timestamp': (185.0, 189.63), 'text': ' Midwading strategy where we stand in regards to'}, {'timestamp': (189.63, 193.39), 'text': ' measuring numbers, also provide an update on the door'}, {'timestamp': (193.39, 205.96), 'text': ' hangar requirement and also on so many years. So you should have a slide with on the left, which shows the numbers in regards to the'}, {'timestamp': (205.96, 213.55), 'text': ' Q2 results for our alternative meter reading strategy. We ended the quarter at 95.8%'}, {'timestamp': (213.55, 215.65), 'text': ' rounded up to 96.'}, {'timestamp': (216.65, 219.25), 'text': ' And in the next quarter,'}, {'timestamp': (219.25, 230.83), 'text': ' you will see I have to support for me that you know that we will likely see a decrease in that number as a result of the heat advisories during this summer.'}, {'timestamp': (230.83, 239.33), 'text': \" We've had 23 record highs during the summer and over 15 days at 100 degrees or higher at the airport.\"}, {'timestamp': (239.33, 243.0), 'text': ' And like my colleagues have said before me, it takes a toll on our staff.'}, {'timestamp': (243.0, 248.0), 'text': \" If I don't want to take a moment to thank our staff for the word they do every single day out there.\"}, {'timestamp': (248.0, 258.33), 'text': \" I know some of you are out there. I wasn't right along a couple of weeks ago with our major reading staff. Probably was out there for no more than three hours.\"}, {'timestamp': (258.33, 265.96), 'text': ' And I came back to the office just with so much respect for our men and women of the'}, {'timestamp': (265.96, 278.37), 'text': ' water board. Their job every day is to lift our awesome covers that are extremely heavy, you know, a couple of hundred every single day in this heat. So just want to make sure that we make a note of that.'}, {'timestamp': (279.25, 283.56), 'text': ' So we ended the quarter at 96% on the right side,'}, {'timestamp': (283.56, 285.56), 'text': ' you have an image of the door hanger'}, {'timestamp': (285.56, 288.24), 'text': ' to need the door hanger requirement'}, {'timestamp': (288.24, 289.66), 'text': ' in the building ordinance.'}, {'timestamp': (290.54, 296.79), 'text': ' On one side of the door hanger, you can see the employee writes their name, the date,'}, {'timestamp': (296.79, 300.81), 'text': ' and if they were able to get an actual read, if not,'}, {'timestamp': (300.81, 306.48), 'text': ' and we also took the opportunity to do some continuous improvement work. So if the'}, {'timestamp': (306.48, 312.0), 'text': ' mirror reader is that the meter is not working. They will leave an'}, {'timestamp': (312.0, 317.33), 'text': \" out and then they will inform us back in the office and then we'll take action on that repair.\"}, {'timestamp': (317.33, 334.06), 'text': ' On the back of the door hanger, we have some high-level information promoting smart meter program and also an introduction of what it is and some of the benefits coming our way regarding that'}, {'timestamp': (334.06, 342.32), 'text': ' project. So for a smart meter update.'}, {'timestamp': (342.32, 343.48), 'text': ' As most of you are aware,'}, {'timestamp': (343.48, 345.08), 'text': ' we have phase numbers challenges'}, {'timestamp': (345.08, 351.1), 'text': ' at the Water Board to obtain consistent actual meter reads, which that has been a primary obstacle'}, {'timestamp': (351.1, 354.46), 'text': ' in our efforts to enhance customer trust and confidence'}, {'timestamp': (354.46, 365.44), 'text': ' and switching to smart leaders will eliminate monthly manual meter reads and provide timely water usage data regardless of staffing challenges, weather events and weather related conditions'}, {'timestamp': (366.16, 368.76), 'text': ' and even power outages.'}, {'timestamp': (368.76, 370.56), 'text': ' threshold alerts while in power customers'}, {'timestamp': (370.56, 372.88), 'text': ' to have a greater control over their consumption'}, {'timestamp': (372.88, 377.33), 'text': ' and spending, which is especially important during these challenging economic times.'}, {'timestamp': (377.33, 384.08), 'text': ' And the customers should enjoy greater protection of their property from water damage easier and less expensive payment'}, {'timestamp': (384.08, 394.66), 'text': ' options and a greater understanding of the effort and the cost required to provide safe and reliable water services.'}, {'timestamp': (394.66, 410.82), 'text': \" And I'm excited to share with you that we're ready to actually to share the schedule for our 1.5 inch and 2 inch slow meter installation rollout.\"}, {'timestamp': (410.82, 418.21), 'text': \" And before doing so, I'll spend a couple of minutes describing what customers are going to receive in the form of communication\"}, {'timestamp': (418.21, 419.77), 'text': ' from the sewage and water board.'}, {'timestamp': (419.77, 426.0), 'text': ' So in front of you, you should have the picture of a postcard, which would be the first notification'}, {'timestamp': (426.0, 432.26), 'text': ' that a customer gets. And this goes four or five weeks out to account holders before the installation.'}, {'timestamp': (432.26, 439.25), 'text': \" So for example, we're going to actually do the first installations on September 18th and three weeks.\"}, {'timestamp': (439.25, 443.0), 'text': ' So this postcard went out already on August 17th.'}, {'timestamp': (443.0, 447.0), 'text': ' And if you look at the information included the postcard,'}, {'timestamp': (447.0, 453.62), 'text': \" it talks about near future basically and it has what's going to happen before the\"}, {'timestamp': (453.62, 458.33), 'text': ' installation during the installation, contact information,'}, {'timestamp': (459.13, 461.05), 'text': ' in way of a phone number, and also some links'}, {'timestamp': (461.05, 463.52), 'text': ' for additional information for customers to look at.'}, {'timestamp': (465.92, 474.1), 'text': ' Then the next postcard you see this one goes out two weeks to be service address is one make sure that'}, {'timestamp': (481.17, 492.1), 'text': ' customers are aware and that also property owners are aware too. So this one would go out August 31st on a couple of days also for September 18th. And this one is a little bit more specific than the first one.'}, {'timestamp': (492.9, 497.33), 'text': ' You have more specific information for residential and commercial customers.'}, {'timestamp': (497.33, 500.93), 'text': ' And again, some of the benefits of the project of smart meters,'}, {'timestamp': (500.93, 506.8), 'text': ' the contact information and the link to online FAQs.'}, {'timestamp': (506.8, 516.57), 'text': ' So next we have the actual description of our slow start smart meter route band.'}, {'timestamp': (516.57, 519.89), 'text': ' So this is for one and a half and two inch meters.'}, {'timestamp': (521.01, 531.54), 'text': ' And we did the best we could to design a strategy that is equitable but also efficient and does not increase cost to the project.'}, {'timestamp': (532.42, 537.97), 'text': ' So in the table that you see in the bottom right corner of this slide,'}, {'timestamp': (537.97, 549.66), 'text': ' you have the districts and then the months in each column and then the total number of meters that will be installed by the end of the year for each of those districts.'}, {'timestamp': (549.66, 551.16), 'text': ' Can I ask a question here?'}, {'timestamp': (551.16, 553.36), 'text': \" I'm a channel my council member, Green.\"}, {'timestamp': (553.36, 557.33), 'text': ' How come district D has so much fewer than the other districts?'}, {'timestamp': (559.49, 568.0), 'text': ' Fewer one eat. So it has 82. Yeah, and that will ramp up in the in the following months after December.'}, {'timestamp': (568.0, 571.74), 'text': \" I think it'd be helpful if we could get sort of what the\"}, {'timestamp': (571.74, 578.33), 'text': ' projections are because look I just have bottom line is we live in districts and so we get beat up. Why does'}, {'timestamp': (579.01, 584.8), 'text': ' This get this versus that getting that I mean mean, district C, first of all, as already had smart meter, so maybe'}, {'timestamp': (584.8, 588.5), 'text': \" there's some efficiency by the fact that there's some already there.\"}, {'timestamp': (588.5, 592.42), 'text': \" But I mean, they're like 30 to 40% fewer right now\"}, {'timestamp': (592.42, 599.53), 'text': \" for this ramp up than District C and maybe it all equals out in the wash, but it'd be\"}, {'timestamp': (599.53, 609.78), 'text': \" sure helpful to let people. Yeah, I think I've got that information for sure. And these are, and as Renee indicated, it's a slow start.\"}, {'timestamp': (609.78, 612.06), 'text': ' Slow start with us, smart majoring,'}, {'timestamp': (612.06, 613.9), 'text': ' and what we work with our consultants'}, {'timestamp': (613.9, 617.53), 'text': ' trying to somewhat of an equitable distribution based upon again,'}, {'timestamp': (617.53, 619.73), 'text': ' this is the inch and a half and two inch meters that councilman'}, {'timestamp': (619.73, 624.24), 'text': \" Jerusalem. So just wanted to come that out. So we're doing a slow start with like inch and a half\"}, {'timestamp': (624.24, 631.86), 'text': ' to two inch meters, working the kinks out with that plan, making some adjustments we belong the way and as we get into the'}, {'timestamp': (631.86, 645.2), 'text': \" other meat of sizes we'll you know we'll have an equitable distribution amongst the districts, but this is what we started out with with tweaking the plan understand a way you are and but I mean this is our slow rollout which we can add\"}, {'timestamp': (645.2, 650.66), 'text': \" plan and we'll make adjustments. I would just say 40% less is not that.\"}, {'timestamp': (650.66, 659.33), 'text': \" It isn't. I mean, and so I'm just again, if it's because necessities dictate that it has to be this way, that's fine. I'll\"}, {'timestamp': (659.33, 662.32), 'text': \" understand. We'll just ask that. Wait, wait, let me finish, please.\"}, {'timestamp': (662.32, 666.8), 'text': ' Equity means trying to think keeps things on balance and parity.'}, {'timestamp': (666.8, 682.0), 'text': \" And that is, I mean, I'm looking at that and district day is less than everybody else too, but the real outlier here is D. So all I'm saying is if it catches up, that's fine, but that's not what the show is.\"}, {'timestamp': (682.0, 689.46), 'text': \" Yeah, and you're learning clear council manager. So and we struggled with these numbers.\"}, {'timestamp': (689.46, 691.46), 'text': \" And I'm going to back at John's,\"}, {'timestamp': (691.46, 694.18), 'text': ' it was the project manager to walk us through,'}, {'timestamp': (694.18, 698.85), 'text': \" if you don't mind. Two minutes. Great. Did a lot of drivers that, and then I know\"}, {'timestamp': (699.57, 705.0), 'text': \" a snapshot would never be equal. And won't balance out eventually, but we hear you\"}, {'timestamp': (705.0, 710.82), 'text': \" along with you, but I'd like to back him in with the exchange of the challenges that social with perfect benefits each and every day.\"}, {'timestamp': (710.82, 714.26), 'text': ' So good afternoon. My name is Becky Johnsey.'}, {'timestamp': (714.26, 715.33), 'text': ' You can hear me. Okay, you hear me?'}, {'timestamp': (715.33, 716.33), 'text': \" Yeah, that's better.\"}, {'timestamp': (716.33, 717.33), 'text': ' Good afternoon.'}, {'timestamp': (717.33, 718.33), 'text': ' My name is back at John Z.'}, {'timestamp': (718.33, 721.33), 'text': \" I'm the program manager for the Smart Meter program.\"}, {'timestamp': (721.33, 723.32), 'text': ' And I kind of wanted to walk you through what it takes to'}, {'timestamp': (723.32, 732.26), 'text': ' plan these routes, right? So if you see on the left side, these are the factors that went into the planning of the routes. So the first thing'}, {'timestamp': (732.26, 738.61), 'text': ' that we have to look at is the completion of our network infrastructure. As I know some of you have heard we have 12 base'}, {'timestamp': (738.61, 745.44), 'text': \" stations located throughout the city to create that network network coverage's very redundant, but all of the sites have to be stood up\"}, {'timestamp': (745.44, 752.54), 'text': ' and tested for the network. The next is the number of meters that are located in each one of our routes.'}, {'timestamp': (752.54, 759.33), 'text': \" Because the goal when we start changing the zad is to complete a full route so that meter reading doesn't have to go back and manually read a meter within that route.\"}, {'timestamp': (759.33, 764.0), 'text': ' We also have to look at the anticipated pace of the installation crew for the project.'}, {'timestamp': (764.0, 767.0), 'text': ' And then the most important factor is blackout schedule.'}, {'timestamp': (767.0, 772.34), 'text': ' So what that means is we design the program around not interrupting our current'}, {'timestamp': (772.34, 775.33), 'text': ' operation and maintenance. That means meter reading. that means building.'}, {'timestamp': (775.33, 778.33), 'text': ' So we give them a window to get those meters read manually.'}, {'timestamp': (778.33, 781.33), 'text': \" Then there's a time that we can go to the installation and the back end.\"}, {'timestamp': (781.33, 784.5), 'text': ' We make sure that billing if a reread needs to be there,'}, {'timestamp': (784.5, 791.66), 'text': \" we're not in that area disrupted. Okay, so that's really the most important factor as we start to design what this looks like.\"}, {'timestamp': (791.66, 797.45), 'text': ' And so what we did is we had no demographic information at all when we design these routes.'}, {'timestamp': (797.45, 801.45), 'text': \" The only thing we're looking at was a route number and those factors.\"}, {'timestamp': (801.45, 811.6), 'text': \" And so the reason, as you picked up so quickly on that district D has a smaller number is because we are still waiting for the completion of the network tower that's located in Gen\"}, {'timestamp': (811.6, 815.89), 'text': \" Tilly. So because we're having to create a new tower\"}, {'timestamp': (815.89, 817.97), 'text': ' instead of being able to use existing infrastructure,'}, {'timestamp': (817.97, 820.01), 'text': ' which we were able to in other parts of the city,'}, {'timestamp': (820.01, 823.07), 'text': ' specifically our water towers and reef structures.'}, {'timestamp': (823.07, 825.19), 'text': ' We had to wait for all this top of graphic information'}, {'timestamp': (825.19, 826.87), 'text': ' to be able to stand up that tower.'}, {'timestamp': (826.87, 830.66), 'text': \" So we're anticipating that being done within the next few weeks.\"}, {'timestamp': (830.66, 837.05), 'text': \" And so those installations will pick up and you'll see an equitable distribution across the districts.\"}, {'timestamp': (837.05, 839.05), 'text': ' Exactly what I need. Thank you very much.'}, {'timestamp': (839.05, 845.19), 'text': \" Like I said earlier, I cannot afford having favorites, so you're all my favorites. Thank you.\"}, {'timestamp': (845.19, 858.33), 'text': ' Thank you. Bye. And just to finish this information on smart leaders, if you notice the total number of all two districts by end of year of one and a half and two inch meters is 503.'}, {'timestamp': (858.33, 860.83), 'text': \" So it's not a huge number.\"}, {'timestamp': (860.83, 866.99), 'text': ' So also for context I I wanted to add to that, when we start with the smaller meter, the residential leaders.'}, {'timestamp': (866.99, 884.15), 'text': \" By November, we'll be most likely installing around 240 small meters a week, beginning in November plus around 41 and a half and 2 inch meters. So that's around 140 a week combined small small, one and a half and two.\"}, {'timestamp': (884.15, 890.46), 'text': ' So by the end of year in 2023, we expect between 2000 and 2200 meters.'}, {'timestamp': (890.46, 897.73), 'text': \" And that's where you will see more of that equitable spread when you look at that larger number.\"}, {'timestamp': (897.73, 900.33), 'text': ' So I will turn it back to Gassan.'}, {'timestamp': (900.33, 901.21), 'text': ' Thank you, Rene.'}, {'timestamp': (901.21, 904.39), 'text': ' And I just want to spend maybe two minutes or less'}, {'timestamp': (904.39, 907.03), 'text': ' just emphasizing our responsibility.'}, {'timestamp': (907.03, 911.58), 'text': \" Obviously, it doesn't stop with identifying projects and executing them but also\"}, {'timestamp': (911.58, 917.33), 'text': ' finding funding for those and what we have current projects we also have current projects. We also have future projects.'}, {'timestamp': (917.33, 926.39), 'text': ' So the first two slides demonstrate the fact that currently, if you project the next five years needs and capital'}, {'timestamp': (926.39, 929.66), 'text': ' improvements and just keeping the momentum going.'}, {'timestamp': (929.66, 954.26), 'text': \" The current revenue, the level just does not match the need. And there's a huge gap in the funding. So again our job is to focus first on not burning the ratepayers with these costs and we do everything we can and we cover all resources that our sources of funding that are available out there and the last slide demonstrates\"}, {'timestamp': (964.99, 965.19), 'text': \" the variety of places where we're targeting to hopefully get us about almost $100 million to support current and future funding.\"}, {'timestamp': (975.73, 977.61), 'text': \" We don't believe it's sustainable, obviously, but it's as crucial as anything to go and find funding before we can lean on our rate payers. So I just wanna make that point.\"}, {'timestamp': (977.61, 979.33), 'text': ' We have to keep the momentum.'}, {'timestamp': (979.33, 981.53), 'text': ' We were doing very well,'}, {'timestamp': (981.53, 985.75), 'text': \" but there's so many other future projects that need to be identified,\"}, {'timestamp': (986.71, 993.7), 'text': \" pan designed and executed and let's enjoy that the momentum and just keep the investment in our\"}, {'timestamp': (993.7, 1000.33), 'text': ' infrastructure going and continue. for our residents. So thank you so much for the time today.'}, {'timestamp': (1000.33, 1005.59), 'text': \" Thank you. I appreciate that. Council Member Drew has no questions. I feel like he's been here\"}, {'timestamp': (1005.59, 1012.42), 'text': \" for a long time. So I will not believe at the point. I'm just going to quickly ask a couple of things. What is the status on\"}, {'timestamp': (1012.42, 1016.33), 'text': \" the work that's being done on the 3300 block of power myra.\"}, {'timestamp': (1016.33, 1018.33), 'text': ' I know there was an EPA deadline.'}, {'timestamp': (1018.33, 1023.43), 'text': \" Yeah, so that 3300 block of power myara, that's I believe for the\"}]\n"
     ]
    }
   ],
   "source": [
    "print(transcript)\n"
   ]
  },
  {
   "cell_type": "code",
   "execution_count": null,
   "metadata": {},
   "outputs": [],
   "source": []
  }
 ],
 "metadata": {
  "kernelspec": {
   "display_name": "Python 3 (ipykernel)",
   "language": "python",
   "name": "python3"
  },
  "language_info": {
   "codemirror_mode": {
    "name": "ipython",
    "version": 3
   },
   "file_extension": ".py",
   "mimetype": "text/x-python",
   "name": "python",
   "nbconvert_exporter": "python",
   "pygments_lexer": "ipython3",
   "version": "3.11.4"
  }
 },
 "nbformat": 4,
 "nbformat_minor": 4
}
