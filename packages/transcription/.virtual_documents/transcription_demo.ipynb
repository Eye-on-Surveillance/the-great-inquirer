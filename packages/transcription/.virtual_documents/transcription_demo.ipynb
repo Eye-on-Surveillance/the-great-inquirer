from yttranscriptions import *
from transcribe import *



%%time
video_path = "/Users/haydenoutlaw/Downloads/City Council Meeting 1_18_2024(1).mp4"

transcriber = TranscriptionGenerator("tiny", "cpu", 30, 12)




def convert_video_to_audio(input_path, output_path, audio_format="mp3"):
# Load video clip
    video_clip = VideoFileClip(input_path)

    # Extract audio from the video
    audio_clip = video_clip.audio

    # Save audio to the specified output path and format
    audio_clip.write_audiofile(output_path, codec = 'mp3')

    # Close the video and audio clips
    video_clip.close()
    audio_clip.close()


convert_video_to_audio(video_path, "/Users/haydenoutlaw/Downloads/City Council Meeting 1_18_2024.mp3")


%%time
transcript = transcriber.transcribe("/Users/haydenoutlaw/Downloads/City Council Meeting 1_18_2024(1).mp3")


print(transcript["chunks"])



